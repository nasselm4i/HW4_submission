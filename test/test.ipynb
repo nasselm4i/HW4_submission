{
 "cells": [
  {
   "cell_type": "code",
   "execution_count": 2,
   "metadata": {},
   "outputs": [
    {
     "name": "stdout",
     "output_type": "stream",
     "text": [
      "1\n"
     ]
    }
   ],
   "source": [
    "import numpy as np\n",
    "\n",
    "truncated = True\n",
    "\n",
    "print((not truncated) + ( truncated))\n",
    "\n",
    "# print(None + 1)"
   ]
  },
  {
   "cell_type": "code",
   "execution_count": 13,
   "metadata": {},
   "outputs": [],
   "source": [
    "import sys\n",
    "import os\n",
    "sys.path.append(os.path.abspath('/teamspace/studios/this_studio/robot_learning'))\n",
    "from rich.traceback import install\n",
    "import numpy as np\n",
    "from hw4.roble.envs.roboverse.widowx import create_widow_env\n",
    "\n",
    "from hw4.roble.infrastructure.gclr_wrapper import GoalConditionedEnv\n",
    "\n",
    "import roboverse.bullet as bullet"
   ]
  },
  {
   "cell_type": "code",
   "execution_count": 14,
   "metadata": {},
   "outputs": [],
   "source": [
    "env_config = {\n",
    "    \"env\": {\n",
    "        \"env_name\": \"widowx\",  # ['reacher', 'antmaze', 'widowx']\n",
    "        \"task_name\": \"gcrl\",  # ['gcrl','gcrl_v2', 'hrl']\n",
    "        \"distribution\": \"normal\",  # [\"uniform\", \"normal\"]\n",
    "        \"relative_goal\": False,\n",
    "        \"max_episode_length\": 500,\n",
    "        \"exp_name\": \"debug\",\n",
    "        \"atari\": False,\n",
    "        \"reacher\": {\n",
    "            \"hand_indices\": [3, 4, 5],\n",
    "            \"goal_indices\": [-3, -2, -1],\n",
    "            \"uniform_bounds\": [[-0.6, -1.4, -0.4], [0.8, 0.2, 0.5]],\n",
    "            \"gaussian_bounds\": [[0.2, 0.7, 0.0], [0.3, 0.4, 0.05]],\n",
    "            \"global_goal\": [0.1, 0.1, 0.1],\n",
    "            \"k\": 10,\n",
    "            \"goal_reached_threshold\": -0.3\n",
    "        },\n",
    "        \"widowx\": {\n",
    "            \"hand_indices\": [-6, -5, -4],\n",
    "            \"goal_indices\": [0, 1, 2],\n",
    "            \"uniform_bounds\": [[0.4, -0.2, -0.34], [0.8, 0.4, -0.1]],\n",
    "            \"gaussian_bounds\": [[0.6, 0.1, -0.2], [0.2, 0.2, 0.2]],\n",
    "            \"global_goal\": [0.6, 0.2, -0.3],\n",
    "            \"k\": 10,\n",
    "            \"goal_reached_threshold\": -0.3\n",
    "        },\n",
    "        \"low_level_agent_path\": \"/teamspace/studios/this_studio/robot_learning/data/hw4_q4_reacher_normal_k10_reacher_31-03-2024_20-30-32/agent_itr_6000.pt\"\n",
    "    },\n",
    "    \"alg\": {\n",
    "        \"double_q\": True,\n",
    "        \"batch_size\": 4096,\n",
    "        \"train_batch_size\": 4096,\n",
    "        \"eval_batch_size\": 4096,\n",
    "        \"num_agent_train_steps_per_iter\": 1,\n",
    "        \"num_critic_updates_per_agent_update\": 16,\n",
    "        \"use_gpu\": False,\n",
    "        \"gpu_id\": 0,\n",
    "        \"rl_alg\": \"pg\",\n",
    "        \"learning_starts\": 1,\n",
    "        \"learning_freq\": 1,\n",
    "        \"target_update_freq\": 1,\n",
    "        \"exploration_schedule\": 0,\n",
    "        \"optimizer_spec\": 0,\n",
    "        \"replay_buffer_size\": 100000,\n",
    "        \"frame_history_len\": 1,\n",
    "        \"gamma\": 0.95,\n",
    "        \"critic_learning_rate\": 1e-3,\n",
    "        \"learning_rate\": 3e-4,\n",
    "        \"ob_dim\": 0,  # do not modify\n",
    "        \"ac_dim\": 0,  # do not modify\n",
    "        \"batch_size_initial\": 0,  # do not modify\n",
    "        \"discrete\": False,\n",
    "        \"grad_norm_clipping\": True,\n",
    "        \"n_iter\": 1000,\n",
    "        \"polyak_avg\": 0.01,\n",
    "        \"td3_target_policy_noise\": 0.1,\n",
    "        \"sac_entropy_coeff\": 0.2,\n",
    "        \"policy_std\": 0.05,\n",
    "        \"use_baseline\": True,\n",
    "        \"gae_lambda\": 0.9,\n",
    "        \"standardize_advantages\": True,\n",
    "        \"reward_to_go\": False,\n",
    "        \"nn_baseline\": True,\n",
    "        \"on_policy\": True,\n",
    "        \"learn_policy_std\": False,\n",
    "        \"deterministic\": False,\n",
    "        \"network\": {\n",
    "            \"layer_sizes\": [64, 32],\n",
    "            \"activations\": [\"leaky_relu\", \"leaky_relu\"],\n",
    "            \"output_activation\": \"identity\"\n",
    "        },\n",
    "        \"logging\": {\n",
    "        \"video_log_freq\": 100,  # How often to generate a video to log/\n",
    "        \"scalar_log_freq\": 10,  # How often to log training information and run evaluation during training.\n",
    "        \"save_frequency\": 100,  # Frequency of agent's params saved\n",
    "        \"save_params\": False,  # Should the parameters given to the script be saved? (Always...)\n",
    "        \"random_seed\": 1234,\n",
    "        \"logdir\": \"\",\n",
    "        \"debug\": False\n",
    "    }\n",
    "    }\n",
    "}"
   ]
  },
  {
   "cell_type": "code",
   "execution_count": 16,
   "metadata": {},
   "outputs": [
    {
     "name": "stdout",
     "output_type": "stream",
     "text": [
      "['__class__', '__delattr__', '__dict__', '__dir__', '__doc__', '__eq__', '__format__', '__ge__', '__getattribute__', '__gt__', '__hash__', '__init__', '__init_subclass__', '__le__', '__lt__', '__module__', '__ne__', '__new__', '__reduce__', '__reduce_ex__', '__repr__', '__setattr__', '__sizeof__', '__str__', '__subclasshook__', '__weakref__', '_atari', '_base_env', '_distribution', '_env', '_env_name', '_exp_name', '_get_obs', '_low_level_agent_path', '_max_episode_length', '_reacher', '_relative_goal', '_task_name', '_widowx', 'action_space', 'classu', 'count', 'create_state', 'data', 'distribution', 'env_name', 'global_goal', 'goal_indices', 'goal_reached_threshold', 'hand_indices', 'max_episode_length', 'metadata', 'model', 'observation_space', 'param1', 'param2', 'random', 'random_position', 'relative_goal', 'render', 'reset', 'reward', 'seed', 'set_goal', 'set_info', 'step', 'success_fn', 'unwrapped']\n"
     ]
    },
    {
     "name": "stderr",
     "output_type": "stream",
     "text": [
      "/home/zeus/miniconda3/envs/cloudspace/lib/python3.8/site-packages/gym/logger.py:30: UserWarning: \u001b[33mWARN: Box bound precision lowered by casting to float32\u001b[0m\n",
      "  warnings.warn(colorize('%s: %s'%('WARN', msg % args), 'yellow'))\n"
     ]
    }
   ],
   "source": [
    "    env_widowx = create_widow_env()\n",
    "\n",
    "    env_widowx = GoalConditionedEnv(env_widowx, **env_config[\"env\"])\n",
    "\n",
    "    print(dir(env_widowx))\n",
    "    "
   ]
  }
 ],
 "metadata": {
  "kernelspec": {
   "display_name": "cloudspace",
   "language": "python",
   "name": "python3"
  },
  "language_info": {
   "codemirror_mode": {
    "name": "ipython",
    "version": 3
   },
   "file_extension": ".py",
   "mimetype": "text/x-python",
   "name": "python",
   "nbconvert_exporter": "python",
   "pygments_lexer": "ipython3",
   "version": "3.10.11"
  }
 },
 "nbformat": 4,
 "nbformat_minor": 2
}
