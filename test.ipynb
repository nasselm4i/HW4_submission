{
 "cells": [
  {
   "cell_type": "code",
   "execution_count": 4,
   "metadata": {},
   "outputs": [
    {
     "name": "stdout",
     "output_type": "stream",
     "text": [
      "[0. 0. 0. 1. 1. 1.]\n"
     ]
    }
   ],
   "source": [
    "import numpy as np\n",
    "\n",
    "arr = [np.zeros(3), np.ones(3)]\n",
    "\n",
    "arr_conc = np.concatenate(arr)\n",
    "\n",
    "print(arr_conc)\n",
    "\n"
   ]
  },
  {
   "cell_type": "code",
   "execution_count": 10,
   "metadata": {},
   "outputs": [
    {
     "name": "stdout",
     "output_type": "stream",
     "text": [
      "buffer deque([array([6., 6., 6., 6.]), array([7., 7., 7., 7.]), array([8., 8., 8., 8.]), array([9., 9., 9., 9.])], maxlen=4)\n"
     ]
    }
   ],
   "source": [
    "from collections import deque\n",
    "\n",
    "buffer = deque(maxlen=4)\n",
    "\n",
    "\n",
    "for k in range (10):\n",
    "    arr = np.ones(4)*k\n",
    "    buffer.append(arr)\n",
    "    \n",
    "# flatten_buffer = np.concatenate(buffer)\n",
    "\n",
    "# print(\"flatten\", flatten_buffer)\n",
    "print(\"buffer\", buffer)\n",
    "\n"
   ]
  }
 ],
 "metadata": {
  "kernelspec": {
   "display_name": "cloudspace",
   "language": "python",
   "name": "python3"
  },
  "language_info": {
   "codemirror_mode": {
    "name": "ipython",
    "version": 3
   },
   "file_extension": ".py",
   "mimetype": "text/x-python",
   "name": "python",
   "nbconvert_exporter": "python",
   "pygments_lexer": "ipython3",
   "version": "3.9.19"
  }
 },
 "nbformat": 4,
 "nbformat_minor": 2
}
