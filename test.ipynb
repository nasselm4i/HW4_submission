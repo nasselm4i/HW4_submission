{
 "cells": [
  {
   "cell_type": "code",
   "execution_count": 4,
   "metadata": {},
   "outputs": [
    {
     "name": "stdout",
     "output_type": "stream",
     "text": [
      "[0. 0. 0. 1. 1. 1.]\n"
     ]
    }
   ],
   "source": [
    "import numpy as np\n",
    "\n",
    "arr = [np.zeros(3), np.ones(3)]\n",
    "\n",
    "arr_conc = np.concatenate(arr)\n",
    "\n",
    "print(arr_conc)\n",
    "\n"
   ]
  },
  {
   "cell_type": "code",
   "execution_count": 10,
   "metadata": {},
   "outputs": [
    {
     "name": "stdout",
     "output_type": "stream",
     "text": [
      "buffer deque([array([6., 6., 6., 6.]), array([7., 7., 7., 7.]), array([8., 8., 8., 8.]), array([9., 9., 9., 9.])], maxlen=4)\n"
     ]
    }
   ],
   "source": [
    "from collections import deque\n",
    "\n",
    "buffer = deque(maxlen=4)\n",
    "\n",
    "\n",
    "for k in range (10):\n",
    "    arr = np.ones(4)*k\n",
    "    buffer.append(arr)\n",
    "    \n",
    "# flatten_buffer = np.concatenate(buffer)\n",
    "\n",
    "# print(\"flatten\", flatten_buffer)\n",
    "print(\"buffer\", buffer)\n",
    "\n"
   ]
  },
  {
   "cell_type": "code",
   "execution_count": 6,
   "metadata": {},
   "outputs": [
    {
     "name": "stdout",
     "output_type": "stream",
     "text": [
      "It works\n"
     ]
    }
   ],
   "source": [
    "if 11:\n",
    "    print(\"It works\")"
   ]
  },
  {
   "cell_type": "code",
   "execution_count": 7,
   "metadata": {},
   "outputs": [
    {
     "name": "stdout",
     "output_type": "stream",
     "text": [
      "4\n"
     ]
    }
   ],
   "source": [
    "LOG_dico = {}\n",
    "LOG_dico[\"train_returns\"] = []\n",
    "LOG_dico[\"train_ep_lens\"] = []\n",
    "LOG_dico[\"eval_returns\"] = []\n",
    "LOG_dico[\"eval_ep_lens\"] = []\n",
    "\n",
    "print(len(LOG_dico))"
   ]
  },
  {
   "cell_type": "code",
   "execution_count": 16,
   "metadata": {},
   "outputs": [
    {
     "data": {
      "text/plain": [
       "0"
      ]
     },
     "execution_count": 16,
     "metadata": {},
     "output_type": "execute_result"
    }
   ],
   "source": [
    "8 // 9"
   ]
  },
  {
   "cell_type": "code",
   "execution_count": 10,
   "metadata": {},
   "outputs": [
    {
     "name": "stdout",
     "output_type": "stream",
     "text": [
      "not a list!\n",
      "not a list!\n",
      "not a list!\n",
      "not a list!\n",
      "not a list!\n"
     ]
    }
   ],
   "source": [
    "v = []\n",
    "for _ in range(5):\n",
    "    if not isinstance(v, list):\n",
    "        continue\n",
    "    print(\"not a list!\")"
   ]
  }
 ],
 "metadata": {
  "kernelspec": {
   "display_name": "cloudspace",
   "language": "python",
   "name": "python3"
  },
  "language_info": {
   "codemirror_mode": {
    "name": "ipython",
    "version": 3
   },
   "file_extension": ".py",
   "mimetype": "text/x-python",
   "name": "python",
   "nbconvert_exporter": "python",
   "pygments_lexer": "ipython3",
   "version": "3.9.19"
  }
 },
 "nbformat": 4,
 "nbformat_minor": 2
}
